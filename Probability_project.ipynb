{
 "nbformat": 4,
 "nbformat_minor": 0,
 "metadata": {
  "colab": {
   "provenance": []
  },
  "kernelspec": {
   "name": "python3",
   "language": "python",
   "display_name": "Python 3 (ipykernel)"
  },
  "language_info": {
   "name": "python"
  }
 },
 "cells": [
  {
   "cell_type": "markdown",
   "source": [
    "#**Implementing and Evaluating Naive Bayes Classifier for Text Classification**"
   ],
   "metadata": {
    "id": "WSB8o0L8RhP5"
   }
  },
  {
   "cell_type": "markdown",
   "source": [
    "#**1. Loading and Preparing Data:**"
   ],
   "metadata": {
    "id": "Fy_SKNpGugsv"
   }
  },
  {
   "cell_type": "markdown",
   "source": [
    "*   Dataset Loading:"
   ],
   "metadata": {
    "id": "cQ1-6oDdMBe7"
   }
  },
  {
   "cell_type": "code",
   "execution_count": 76,
   "metadata": {
    "id": "3KuDDFNpufsG",
    "ExecuteTime": {
     "end_time": "2024-05-22T19:29:30.526748Z",
     "start_time": "2024-05-22T19:29:30.329998Z"
    }
   },
   "outputs": [],
   "source": [
    "from sklearn.datasets import fetch_20newsgroups\n",
    "data = fetch_20newsgroups(subset='train')"
   ]
  },
  {
   "cell_type": "markdown",
   "source": [
    "*   Extracting Text Data and Labels:"
   ],
   "metadata": {
    "id": "-4guFN2KMabo"
   }
  },
  {
   "cell_type": "code",
   "source": [
    "text_data = data.data\n",
    "target_labels = data.target"
   ],
   "metadata": {
    "id": "TwfkO9fmMhn-",
    "ExecuteTime": {
     "end_time": "2024-05-22T19:28:23.071499Z",
     "start_time": "2024-05-22T19:28:23.048008Z"
    }
   },
   "execution_count": 67,
   "outputs": []
  },
  {
   "cell_type": "markdown",
   "source": [
    "*   Display Sample Data:"
   ],
   "metadata": {
    "id": "3LlVfLx7VxIU"
   }
  },
  {
   "cell_type": "code",
   "source": [
    "print(\"Sample text data and their corresponding target labels:\")\n",
    "for i in range(3):\n",
    "    print(f\"Text {i}: {text_data[i][:500]}...\")\n",
    "    print(f\"Label {i}: {target_labels[i]}\\n\")"
   ],
   "metadata": {
    "id": "3o5VPwg3Vx6c",
    "ExecuteTime": {
     "end_time": "2024-05-22T19:28:23.079432Z",
     "start_time": "2024-05-22T19:28:23.072505Z"
    }
   },
   "execution_count": 68,
   "outputs": [
    {
     "name": "stdout",
     "output_type": "stream",
     "text": [
      "Sample text data and their corresponding target labels:\n",
      "Text 0: From: lerxst@wam.umd.edu (where's my thing)\n",
      "Subject: WHAT car is this!?\n",
      "Nntp-Posting-Host: rac3.wam.umd.edu\n",
      "Organization: University of Maryland, College Park\n",
      "Lines: 15\n",
      "\n",
      " I was wondering if anyone out there could enlighten me on this car I saw\n",
      "the other day. It was a 2-door sports car, looked to be from the late 60s/\n",
      "early 70s. It was called a Bricklin. The doors were really small. In addition,\n",
      "the front bumper was separate from the rest of the body. This is \n",
      "all I know. If anyone can tellme a m...\n",
      "Label 0: 7\n",
      "\n",
      "Text 1: From: guykuo@carson.u.washington.edu (Guy Kuo)\n",
      "Subject: SI Clock Poll - Final Call\n",
      "Summary: Final call for SI clock reports\n",
      "Keywords: SI,acceleration,clock,upgrade\n",
      "Article-I.D.: shelley.1qvfo9INNc3s\n",
      "Organization: University of Washington\n",
      "Lines: 11\n",
      "NNTP-Posting-Host: carson.u.washington.edu\n",
      "\n",
      "A fair number of brave souls who upgraded their SI clock oscillator have\n",
      "shared their experiences for this poll. Please send a brief message detailing\n",
      "your experiences with the procedure. Top speed attained, ...\n",
      "Label 1: 4\n",
      "\n",
      "Text 2: From: twillis@ec.ecn.purdue.edu (Thomas E Willis)\n",
      "Subject: PB questions...\n",
      "Organization: Purdue University Engineering Computer Network\n",
      "Distribution: usa\n",
      "Lines: 36\n",
      "\n",
      "well folks, my mac plus finally gave up the ghost this weekend after\n",
      "starting life as a 512k way back in 1985.  sooo, i'm in the market for a\n",
      "new machine a bit sooner than i intended to be...\n",
      "\n",
      "i'm looking into picking up a powerbook 160 or maybe 180 and have a bunch\n",
      "of questions that (hopefully) somebody can answer:\n",
      "\n",
      "* does anybody k...\n",
      "Label 2: 4\n"
     ]
    }
   ]
  },
  {
   "cell_type": "markdown",
   "source": [
    "*   Create and Display Table:"
   ],
   "metadata": {
    "id": "O0O4hUOPWXaD"
   }
  },
  {
   "cell_type": "code",
   "source": [
    "import pandas as pd\n",
    "df = pd.DataFrame({'Text': text_data[:5], 'Label': target_labels[:5]})\n",
    "print(df)"
   ],
   "metadata": {
    "id": "aIDJOV1oWX0U",
    "ExecuteTime": {
     "end_time": "2024-05-22T19:28:23.094550Z",
     "start_time": "2024-05-22T19:28:23.081437Z"
    }
   },
   "execution_count": 69,
   "outputs": [
    {
     "name": "stdout",
     "output_type": "stream",
     "text": [
      "                                                Text  Label\n",
      "0  From: lerxst@wam.umd.edu (where's my thing)\\nS...      7\n",
      "1  From: guykuo@carson.u.washington.edu (Guy Kuo)...      4\n",
      "2  From: twillis@ec.ecn.purdue.edu (Thomas E Will...      4\n",
      "3  From: jgreen@amber (Joe Green)\\nSubject: Re: W...      1\n",
      "4  From: jcm@head-cfa.harvard.edu (Jonathan McDow...     14\n"
     ]
    }
   ]
  },
  {
   "cell_type": "markdown",
   "source": [
    "#**2. Vectorizing the Text Data:**"
   ],
   "metadata": {
    "id": "fsHmFhhMMpF3"
   }
  },
  {
   "cell_type": "code",
   "source": [
    "from sklearn.feature_extraction.text import TfidfVectorizer\n",
    "vectorizer = TfidfVectorizer()\n",
    "tfidf_data = vectorizer.fit_transform(text_data)"
   ],
   "metadata": {
    "id": "ZM0TJt6oMuWh",
    "ExecuteTime": {
     "end_time": "2024-05-22T19:28:25.021244Z",
     "start_time": "2024-05-22T19:28:23.095554Z"
    }
   },
   "execution_count": 70,
   "outputs": []
  },
  {
   "cell_type": "markdown",
   "source": [
    "#**3. Splitting the Data:**"
   ],
   "metadata": {
    "id": "Uq6rEAuJMz9a"
   }
  },
  {
   "cell_type": "code",
   "source": [
    "from sklearn.model_selection import train_test_split\n",
    "X_train, X_val, y_train, y_val = train_test_split(tfidf_data, target_labels, test_size=0.2, random_state=999)"
   ],
   "metadata": {
    "id": "OlIrvKWcMzK9",
    "ExecuteTime": {
     "end_time": "2024-05-22T19:28:25.050063Z",
     "start_time": "2024-05-22T19:28:25.022249Z"
    }
   },
   "execution_count": 71,
   "outputs": []
  },
  {
   "cell_type": "markdown",
   "source": [
    "#**4. Training and Evaluating a Multinomial Naive Bayes Model:**"
   ],
   "metadata": {
    "id": "8voRvt27NSXr"
   }
  },
  {
   "cell_type": "code",
   "source": [
    "from sklearn.naive_bayes import MultinomialNB\n",
    "clf_mn = MultinomialNB()\n",
    "clf_mn.fit(X_train, y_train)\n",
    "score = clf_mn.score(X_val, y_val)\n",
    "print(\"Scikit-learn Model accuracy: \", score)"
   ],
   "metadata": {
    "id": "R5Zl2mHKNQGp",
    "ExecuteTime": {
     "end_time": "2024-05-22T19:28:25.155979Z",
     "start_time": "2024-05-22T19:28:25.051069Z"
    }
   },
   "execution_count": 72,
   "outputs": [
    {
     "name": "stdout",
     "output_type": "stream",
     "text": [
      "Scikit-learn Model accuracy:  0.8166151126822802\n"
     ]
    }
   ]
  },
  {
   "cell_type": "markdown",
   "source": [
    "#**5. Custom Implementation of Multinomial Naive Bayes:**"
   ],
   "metadata": {
    "id": "OtcH1uFRNcWl"
   }
  },
  {
   "cell_type": "code",
   "source": [
    "import numpy as np\n",
    "\n",
    "class CustomMultinomialNB:\n",
    "    def __init__(self, alpha=1.0):\n",
    "        self.alpha = alpha  # Smoothing parameter\n",
    "\n",
    "    def fit(self, X, y):\n",
    "        m, n = X.shape  # m documents, n features\n",
    "        self.classes = np.unique(y)\n",
    "        n_classes = len(self.classes)\n",
    "        \n",
    "        # Initialize prior probabilities and likelihoods\n",
    "        self.prior = np.zeros(n_classes)\n",
    "        self.likelihood = np.zeros((n_classes, n))\n",
    "\n",
    "        # Calculate prior probabilities and likelihoods\n",
    "        for idx, cls in enumerate(self.classes):\n",
    "            X_cls = X[y == cls]\n",
    "            total_cls_count = X_cls.sum() + self.alpha * n  # Total count + smoothing\n",
    "            self.prior[idx] = np.log(X_cls.shape[0] / m)  # log P(c)\n",
    "            self.likelihood[idx] = np.log((X_cls.sum(axis=0) + self.alpha) / total_cls_count)  # log P(x_i | c)\n",
    "    \n",
    "    def predict_log_proba(self, X):\n",
    "        # Calculate log probabilities (posterior) for each class\n",
    "        return X @ self.likelihood.T + self.prior\n",
    "    \n",
    "    def predict(self, X):\n",
    "        # Predict the class with the highest log probability (posterior)\n",
    "        log_posterior= self.predict_log_proba(X)\n",
    "        return self.classes[np.argmax(log_posterior, axis=1)]\n",
    "    \n",
    "    def score(self, X, y):\n",
    "        # Calculate accuracy\n",
    "        predictions = self.predict(X)\n",
    "        return np.mean(predictions == y)"
   ],
   "metadata": {
    "id": "zpeTRPGzNZoB",
    "ExecuteTime": {
     "end_time": "2024-05-22T19:28:25.163086Z",
     "start_time": "2024-05-22T19:28:25.156992Z"
    }
   },
   "execution_count": 73,
   "outputs": []
  },
  {
   "cell_type": "markdown",
   "source": [
    "#**6. Training and Evaluating the Custom Model:**"
   ],
   "metadata": {
    "id": "0F1ff-tENwmk"
   }
  },
  {
   "cell_type": "code",
   "source": [
    "clf_mn2 = CustomMultinomialNB()\n",
    "clf_mn2.fit(X_train, y_train)\n",
    "score2 = clf_mn2.score(X_val, y_val)\n",
    "print(\"Our Model accuracy: \", score2)"
   ],
   "metadata": {
    "id": "yaXl6WX9N21B",
    "ExecuteTime": {
     "end_time": "2024-05-22T19:28:25.258835Z",
     "start_time": "2024-05-22T19:28:25.164091Z"
    }
   },
   "execution_count": 74,
   "outputs": [
    {
     "name": "stdout",
     "output_type": "stream",
     "text": [
      "Our Model accuracy:  0.8166151126822802\n"
     ]
    }
   ]
  },
  {
   "cell_type": "markdown",
   "source": [
    "#**7. Comparing Results**"
   ],
   "metadata": {
    "id": "qshApd-RVb1g"
   }
  },
  {
   "cell_type": "code",
   "source": [
    "import matplotlib.pyplot as plt\n",
    "\n",
    "model_names = ['Scikit-learn Naive Bayes', 'Custom Naive Bayes']\n",
    "accuracies = [score, score2]\n",
    "\n",
    "plt.figure(figsize=(10, 5))\n",
    "plt.bar(model_names, accuracies, color=['blue', 'green'])\n",
    "plt.xlabel('Model')\n",
    "plt.ylabel('Accuracy')\n",
    "plt.title('Comparison of Model Accuracies')\n",
    "plt.ylim([0, 1])\n",
    "for i, v in enumerate(accuracies):\n",
    "    plt.text(i, v + 0.02, f\"{v:.2f}\", ha='center', fontweight='bold')\n",
    "plt.show()"
   ],
   "metadata": {
    "id": "rvSGqXZKXDjM",
    "ExecuteTime": {
     "end_time": "2024-05-22T19:28:25.347355Z",
     "start_time": "2024-05-22T19:28:25.259840Z"
    }
   },
   "execution_count": 75,
   "outputs": [
    {
     "data": {
      "text/plain": "<Figure size 1000x500 with 1 Axes>",
      "image/png": "[encoded data removed]"
     },
     "metadata": {},
     "output_type": "display_data"
    }
   ]
  }
 ]
}
